{
 "cells": [
  {
   "cell_type": "markdown",
   "id": "24340c0d-918c-4152-9285-a25eb84a3c4a",
   "metadata": {},
   "source": [
    "# Import Instaloader"
   ]
  },
  {
   "cell_type": "code",
   "execution_count": 1,
   "id": "9f163218-89e4-4586-9a42-55ef1d0f19d3",
   "metadata": {},
   "outputs": [],
   "source": [
    "import shutil\n",
    "import sqlite3\n",
    "from glob import glob\n",
    "from os.path import expanduser\n",
    "from instaloader import Instaloader, ConnectionException, Post\n",
    "from instaloader.exceptions import QueryReturnedBadRequestException, TooManyRequestsException"
   ]
  },
  {
   "cell_type": "markdown",
   "id": "31076867-590b-4883-9cf3-a53990b14925",
   "metadata": {},
   "source": [
    "# Authenticate your burner account on instagram"
   ]
  },
  {
   "cell_type": "code",
   "execution_count": 2,
   "id": "504ba608-49ff-4686-9ec8-4583ded74a5a",
   "metadata": {},
   "outputs": [
    {
     "name": "stdin",
     "output_type": "stream",
     "text": [
      "Enter Instagram password for sentiments_detection:  ········\n"
     ]
    }
   ],
   "source": [
    "import instaloader\n",
    "\n",
    "L = instaloader.Instaloader()\n",
    "L.interactive_login(\"sentiments_detection\")"
   ]
  },
  {
   "cell_type": "markdown",
   "id": "cae59f25-6b81-4ce3-8e17-afbbada004dd",
   "metadata": {},
   "source": [
    "# Load and inject cookies for authentication"
   ]
  },
  {
   "cell_type": "code",
   "execution_count": 3,
   "id": "beb43da9-d9d7-433d-aa53-4caee9e5318d",
   "metadata": {},
   "outputs": [
    {
     "name": "stdout",
     "output_type": "stream",
     "text": [
      "Saved session to /Users/avanimahawar/.config/instaloader/session-sentiments_detection.\n"
     ]
    }
   ],
   "source": [
    "# Step 1: Locate and copy Firefox cookies\n",
    "path_to_cookies = expanduser(\"~/Library/Application Support/Firefox/Profiles/*/cookies.sqlite\")\n",
    "original_cookie_file = glob(path_to_cookies)[0]\n",
    "shutil.copy(original_cookie_file, \"cookies_temp.sqlite\")\n",
    "\n",
    "# Step 2: Load Instagram cookies\n",
    "conn = sqlite3.connect(\"cookies_temp.sqlite\")\n",
    "cursor = conn.cursor()\n",
    "cookies = dict(cursor.execute(\"SELECT name, value FROM moz_cookies WHERE host='.instagram.com'\"))\n",
    "\n",
    "# Step 3: Inject cookies into Instaloader session\n",
    "L = Instaloader(max_connection_attempts=1)\n",
    "L.context._session.cookies.update(cookies)\n",
    "\n",
    "# Step 4: Test and save session\n",
    "try:\n",
    "    username = L.test_login()\n",
    "    if not username:\n",
    "        raise ConnectionException()\n",
    "except ConnectionException:\n",
    "    raise SystemExit(\"Cookie import failed. Are you logged in successfully in Firefox?\")\n",
    "\n",
    "L.context.username = username\n",
    "L.save_session_to_file()"
   ]
  },
  {
   "cell_type": "code",
   "execution_count": 4,
   "id": "efec43b6-6c8f-4c2e-abff-f710ab90d558",
   "metadata": {},
   "outputs": [
    {
     "name": "stdout",
     "output_type": "stream",
     "text": [
      "sentiments_detection\n"
     ]
    }
   ],
   "source": [
    "print(L.test_login())  # should print your username"
   ]
  },
  {
   "cell_type": "markdown",
   "id": "a84217dd-d454-487e-a991-d933dbe3a2b9",
   "metadata": {},
   "source": [
    "# Insert sortcode to fetch comments data "
   ]
  },
  {
   "cell_type": "code",
   "execution_count": 9,
   "id": "9a1d02a2-3cb7-4eea-841f-4ec3bf71b4ad",
   "metadata": {},
   "outputs": [
    {
     "name": "stdout",
     "output_type": "stream",
     "text": [
      "Loaded session from /Users/avanimahawar/.config/instaloader/session-sentiments_detection.\n",
      "\n",
      "Fetching comments for post: DLJb_caouAE\n"
     ]
    },
    {
     "name": "stderr",
     "output_type": "stream",
     "text": [
      "JSON Query to graphql/query: 403 Forbidden when accessing https://www.instagram.com/graphql/query [retrying; skip with ^C]\n"
     ]
    },
    {
     "name": "stdout",
     "output_type": "stream",
     "text": [
      "\n",
      "Fetching comments for post: DLxdqQfsvMk\n"
     ]
    },
    {
     "name": "stderr",
     "output_type": "stream",
     "text": [
      "JSON Query to graphql/query: 403 Forbidden when accessing https://www.instagram.com/graphql/query [retrying; skip with ^C]\n"
     ]
    },
    {
     "name": "stdout",
     "output_type": "stream",
     "text": [
      "\n",
      "Total comments fetched from all posts: 14\n"
     ]
    }
   ],
   "source": [
    "import instaloader\n",
    "import time\n",
    "\n",
    "COMMENTS_TO_FETCH = 25\n",
    "RETRY_DELAY = 5  # seconds\n",
    "MAX_RETRIES = 3\n",
    "\n",
    "L = instaloader.Instaloader()\n",
    "L.load_session_from_file('sentiments_detection')  # after successful login\n",
    "\n",
    "SHORTCODES = 'DLJb_caouAE,DLxdqQfsvMk'\n",
    "shortcode_list = [code.strip() for code in SHORTCODES.split(',')]\n",
    "\n",
    "count = 0\n",
    "comments_data = [] # List to hold comments data\n",
    "\n",
    "def fetch_comments(post, max_comments=COMMENTS_TO_FETCH):\n",
    "    count = 0\n",
    "    for comment in post.get_comments():\n",
    "        retries = 0\n",
    "        while retries < MAX_RETRIES:\n",
    "            try:\n",
    "                # Append comment info to list\n",
    "                comments_data.append({\n",
    "                    'post_shortcode': post.shortcode,\n",
    "                    'username': comment.owner.username,\n",
    "                    'comment': comment.text\n",
    "                })\n",
    "                count += 1\n",
    "                time.sleep(1)  # Safe delay between requests\n",
    "\n",
    "                if count >= max_comments:\n",
    "                    return count\n",
    "                break  # Exit retry loop if successful\n",
    "\n",
    "            except instaloader.exceptions.TooManyRequestsException:\n",
    "                print(\"Rate limit hit. Sleeping for 15 minutes...\")\n",
    "                time.sleep(15 * 60)\n",
    "\n",
    "            except instaloader.exceptions.QueryReturnedBadRequestException:\n",
    "                print(\"Bad request — possibly throttled. Sleeping for 5 minutes...\")\n",
    "                time.sleep(5 * 60)\n",
    "\n",
    "            except instaloader.exceptions.ConnectionException as e:\n",
    "                print(f\"Connection error: {e}. Retrying in {RETRY_DELAY} seconds...\")\n",
    "                time.sleep(RETRY_DELAY)\n",
    "                retries += 1\n",
    "\n",
    "            except Exception as e:\n",
    "                print(f\"Unexpected error: {e}. Retrying in {RETRY_DELAY} seconds...\")\n",
    "                time.sleep(RETRY_DELAY)\n",
    "                retries += 1\n",
    "\n",
    "        else:\n",
    "            print(f\"[WARN] Skipping comment after {MAX_RETRIES} failed attempts.\")\n",
    "\n",
    "    return count\n",
    "\n",
    "# Iterate over all shortcodes\n",
    "total_comments = 0\n",
    "for shortcode in shortcode_list:\n",
    "    print(f\"\\nFetching comments for post: {shortcode}\")\n",
    "    post = instaloader.Post.from_shortcode(L.context, shortcode)\n",
    "    total_comments += fetch_comments(post)\n",
    "    \n",
    "print(f\"\\nTotal comments fetched from all posts: {total_comments}\")"
   ]
  },
  {
   "cell_type": "markdown",
   "id": "c7da7134-29bf-4556-87f8-262dbc4306e9",
   "metadata": {},
   "source": [
    "# Data Cleaning and Translation"
   ]
  },
  {
   "cell_type": "code",
   "execution_count": 10,
   "id": "7a3a32ce-bc3e-4fcc-8074-cc6a8b72b9ac",
   "metadata": {},
   "outputs": [],
   "source": [
    "import pandas as pd\n",
    "df_comments = pd.DataFrame(comments_data)"
   ]
  },
  {
   "cell_type": "code",
   "execution_count": 27,
   "id": "6afda962-d08d-4369-854f-9428de6ac747",
   "metadata": {},
   "outputs": [
    {
     "data": {
      "text/html": [
       "<div>\n",
       "<style scoped>\n",
       "    .dataframe tbody tr th:only-of-type {\n",
       "        vertical-align: middle;\n",
       "    }\n",
       "\n",
       "    .dataframe tbody tr th {\n",
       "        vertical-align: top;\n",
       "    }\n",
       "\n",
       "    .dataframe thead th {\n",
       "        text-align: right;\n",
       "    }\n",
       "</style>\n",
       "<table border=\"1\" class=\"dataframe\">\n",
       "  <thead>\n",
       "    <tr style=\"text-align: right;\">\n",
       "      <th></th>\n",
       "      <th>post_shortcode</th>\n",
       "      <th>username</th>\n",
       "      <th>comment</th>\n",
       "    </tr>\n",
       "  </thead>\n",
       "  <tbody>\n",
       "    <tr>\n",
       "      <th>0</th>\n",
       "      <td>DLJb_caouAE</td>\n",
       "      <td>siddhartha.banerjee.35110</td>\n",
       "      <td>🔥🔥😍</td>\n",
       "    </tr>\n",
       "    <tr>\n",
       "      <th>1</th>\n",
       "      <td>DLJb_caouAE</td>\n",
       "      <td>debendra_saha_07</td>\n",
       "      <td>Ai TMC sokar hindu birodhi</td>\n",
       "    </tr>\n",
       "    <tr>\n",
       "      <th>2</th>\n",
       "      <td>DLJb_caouAE</td>\n",
       "      <td>roy_ankit_2000</td>\n",
       "      <td>Mamata Banerjee was not allowed in the Jaganna...</td>\n",
       "    </tr>\n",
       "    <tr>\n",
       "      <th>3</th>\n",
       "      <td>DLJb_caouAE</td>\n",
       "      <td>rajgupta3171</td>\n",
       "      <td>Mamta ji is destroyed hindu bangali</td>\n",
       "    </tr>\n",
       "    <tr>\n",
       "      <th>4</th>\n",
       "      <td>DLJb_caouAE</td>\n",
       "      <td>rajnishmsd._007</td>\n",
       "      <td>😢</td>\n",
       "    </tr>\n",
       "    <tr>\n",
       "      <th>5</th>\n",
       "      <td>DLJb_caouAE</td>\n",
       "      <td>itanumay</td>\n",
       "      <td>@cpimwb</td>\n",
       "    </tr>\n",
       "    <tr>\n",
       "      <th>6</th>\n",
       "      <td>DLJb_caouAE</td>\n",
       "      <td>ak_ku.48</td>\n",
       "      <td>G@@ndu gola to abar giye mamtaz kei vote debe ...</td>\n",
       "    </tr>\n",
       "    <tr>\n",
       "      <th>7</th>\n",
       "      <td>DLxdqQfsvMk</td>\n",
       "      <td>tali7165</td>\n",
       "      <td>An accent for every occasion 🙄</td>\n",
       "    </tr>\n",
       "    <tr>\n",
       "      <th>8</th>\n",
       "      <td>DLxdqQfsvMk</td>\n",
       "      <td>dr.lansyhomeandgarden</td>\n",
       "      <td>abominal</td>\n",
       "    </tr>\n",
       "    <tr>\n",
       "      <th>9</th>\n",
       "      <td>DLxdqQfsvMk</td>\n",
       "      <td>lafartstudio</td>\n",
       "      <td>KEEP THIS MAN OUT OF OFFICE</td>\n",
       "    </tr>\n",
       "    <tr>\n",
       "      <th>10</th>\n",
       "      <td>DLxdqQfsvMk</td>\n",
       "      <td>strongwomanforthestrongonly</td>\n",
       "      <td>His Indian mom hates her own heritage. She was...</td>\n",
       "    </tr>\n",
       "    <tr>\n",
       "      <th>11</th>\n",
       "      <td>DLxdqQfsvMk</td>\n",
       "      <td>piano6915</td>\n",
       "      <td>Communist, antisemite</td>\n",
       "    </tr>\n",
       "    <tr>\n",
       "      <th>12</th>\n",
       "      <td>DLxdqQfsvMk</td>\n",
       "      <td>amritasahu7129</td>\n",
       "      <td>So he is saying his mom a hindu is a bastard?</td>\n",
       "    </tr>\n",
       "    <tr>\n",
       "      <th>13</th>\n",
       "      <td>DLxdqQfsvMk</td>\n",
       "      <td>bspinoza1</td>\n",
       "      <td>Disgusting human being</td>\n",
       "    </tr>\n",
       "  </tbody>\n",
       "</table>\n",
       "</div>"
      ],
      "text/plain": [
       "   post_shortcode                     username  \\\n",
       "0     DLJb_caouAE    siddhartha.banerjee.35110   \n",
       "1     DLJb_caouAE             debendra_saha_07   \n",
       "2     DLJb_caouAE               roy_ankit_2000   \n",
       "3     DLJb_caouAE                 rajgupta3171   \n",
       "4     DLJb_caouAE              rajnishmsd._007   \n",
       "5     DLJb_caouAE                     itanumay   \n",
       "6     DLJb_caouAE                     ak_ku.48   \n",
       "7     DLxdqQfsvMk                     tali7165   \n",
       "8     DLxdqQfsvMk        dr.lansyhomeandgarden   \n",
       "9     DLxdqQfsvMk                 lafartstudio   \n",
       "10    DLxdqQfsvMk  strongwomanforthestrongonly   \n",
       "11    DLxdqQfsvMk                    piano6915   \n",
       "12    DLxdqQfsvMk               amritasahu7129   \n",
       "13    DLxdqQfsvMk                    bspinoza1   \n",
       "\n",
       "                                              comment  \n",
       "0                                                 🔥🔥😍  \n",
       "1                          Ai TMC sokar hindu birodhi  \n",
       "2   Mamata Banerjee was not allowed in the Jaganna...  \n",
       "3                 Mamta ji is destroyed hindu bangali  \n",
       "4                                                   😢  \n",
       "5                                             @cpimwb  \n",
       "6   G@@ndu gola to abar giye mamtaz kei vote debe ...  \n",
       "7                      An accent for every occasion 🙄  \n",
       "8                                            abominal  \n",
       "9                         KEEP THIS MAN OUT OF OFFICE  \n",
       "10  His Indian mom hates her own heritage. She was...  \n",
       "11                              Communist, antisemite  \n",
       "12      So he is saying his mom a hindu is a bastard?  \n",
       "13                             Disgusting human being  "
      ]
     },
     "execution_count": 27,
     "metadata": {},
     "output_type": "execute_result"
    }
   ],
   "source": [
    "df_comments"
   ]
  },
  {
   "cell_type": "code",
   "execution_count": 28,
   "id": "6af926a4-5db2-4523-b83b-6ebf5747c82b",
   "metadata": {},
   "outputs": [],
   "source": [
    "from googletrans import Translator\n",
    "\n",
    "translator = Translator()\n",
    "\n",
    "for comment in comments_data:\n",
    "    try:\n",
    "        translated = translator.translate(comment['comment'], src='auto', dest='en')\n",
    "        comment['comment_en'] = translated.text\n",
    "    except Exception as e:\n",
    "        print(f\"Translation failed for comment: {comment['comment']}. Error: {e}\")\n",
    "        comment['comment_en'] = comment['comment']  # fallback"
   ]
  },
  {
   "cell_type": "code",
   "execution_count": 29,
   "id": "b2733de2-e40b-4fc7-988f-ef630312eb3e",
   "metadata": {},
   "outputs": [
    {
     "data": {
      "text/html": [
       "<div>\n",
       "<style scoped>\n",
       "    .dataframe tbody tr th:only-of-type {\n",
       "        vertical-align: middle;\n",
       "    }\n",
       "\n",
       "    .dataframe tbody tr th {\n",
       "        vertical-align: top;\n",
       "    }\n",
       "\n",
       "    .dataframe thead th {\n",
       "        text-align: right;\n",
       "    }\n",
       "</style>\n",
       "<table border=\"1\" class=\"dataframe\">\n",
       "  <thead>\n",
       "    <tr style=\"text-align: right;\">\n",
       "      <th></th>\n",
       "      <th>post_shortcode</th>\n",
       "      <th>username</th>\n",
       "      <th>comment</th>\n",
       "      <th>comment_en</th>\n",
       "    </tr>\n",
       "  </thead>\n",
       "  <tbody>\n",
       "    <tr>\n",
       "      <th>0</th>\n",
       "      <td>DLJb_caouAE</td>\n",
       "      <td>siddhartha.banerjee.35110</td>\n",
       "      <td>🔥🔥😍</td>\n",
       "      <td>🔥🔥😍</td>\n",
       "    </tr>\n",
       "    <tr>\n",
       "      <th>1</th>\n",
       "      <td>DLJb_caouAE</td>\n",
       "      <td>debendra_saha_07</td>\n",
       "      <td>Ai TMC sokar hindu birodhi</td>\n",
       "      <td>This Tomke is anti -Hindu</td>\n",
       "    </tr>\n",
       "    <tr>\n",
       "      <th>2</th>\n",
       "      <td>DLJb_caouAE</td>\n",
       "      <td>roy_ankit_2000</td>\n",
       "      <td>Mamata Banerjee was not allowed in the Jaganna...</td>\n",
       "      <td>Mamata Banerjee was not allowed in the Jaganna...</td>\n",
       "    </tr>\n",
       "    <tr>\n",
       "      <th>3</th>\n",
       "      <td>DLJb_caouAE</td>\n",
       "      <td>rajgupta3171</td>\n",
       "      <td>Mamta ji is destroyed hindu bangali</td>\n",
       "      <td>Mamta ji this Destroid Hindu Bengali</td>\n",
       "    </tr>\n",
       "    <tr>\n",
       "      <th>4</th>\n",
       "      <td>DLJb_caouAE</td>\n",
       "      <td>rajnishmsd._007</td>\n",
       "      <td>😢</td>\n",
       "      <td>😢</td>\n",
       "    </tr>\n",
       "    <tr>\n",
       "      <th>5</th>\n",
       "      <td>DLJb_caouAE</td>\n",
       "      <td>itanumay</td>\n",
       "      <td>@cpimwb</td>\n",
       "      <td>@cp a</td>\n",
       "    </tr>\n",
       "    <tr>\n",
       "      <th>6</th>\n",
       "      <td>DLJb_caouAE</td>\n",
       "      <td>ak_ku.48</td>\n",
       "      <td>G@@ndu gola to abar giye mamtaz kei vote debe ...</td>\n",
       "      <td>G @@ Nadu Gola will go again and Mumtaz will v...</td>\n",
       "    </tr>\n",
       "    <tr>\n",
       "      <th>7</th>\n",
       "      <td>DLxdqQfsvMk</td>\n",
       "      <td>tali7165</td>\n",
       "      <td>An accent for every occasion 🙄</td>\n",
       "      <td>An accent for every occasion 🙄</td>\n",
       "    </tr>\n",
       "    <tr>\n",
       "      <th>8</th>\n",
       "      <td>DLxdqQfsvMk</td>\n",
       "      <td>dr.lansyhomeandgarden</td>\n",
       "      <td>abominal</td>\n",
       "      <td>abominal</td>\n",
       "    </tr>\n",
       "    <tr>\n",
       "      <th>9</th>\n",
       "      <td>DLxdqQfsvMk</td>\n",
       "      <td>lafartstudio</td>\n",
       "      <td>KEEP THIS MAN OUT OF OFFICE</td>\n",
       "      <td>KEEP THIS MAN OUT OF OFFICE</td>\n",
       "    </tr>\n",
       "    <tr>\n",
       "      <th>10</th>\n",
       "      <td>DLxdqQfsvMk</td>\n",
       "      <td>strongwomanforthestrongonly</td>\n",
       "      <td>His Indian mom hates her own heritage. She was...</td>\n",
       "      <td>His Indian mom hates her own heritage. She was...</td>\n",
       "    </tr>\n",
       "    <tr>\n",
       "      <th>11</th>\n",
       "      <td>DLxdqQfsvMk</td>\n",
       "      <td>piano6915</td>\n",
       "      <td>Communist, antisemite</td>\n",
       "      <td>Communist, antisemite</td>\n",
       "    </tr>\n",
       "    <tr>\n",
       "      <th>12</th>\n",
       "      <td>DLxdqQfsvMk</td>\n",
       "      <td>amritasahu7129</td>\n",
       "      <td>So he is saying his mom a hindu is a bastard?</td>\n",
       "      <td>So he is saying his mom a hindu is a bastard?</td>\n",
       "    </tr>\n",
       "    <tr>\n",
       "      <th>13</th>\n",
       "      <td>DLxdqQfsvMk</td>\n",
       "      <td>bspinoza1</td>\n",
       "      <td>Disgusting human being</td>\n",
       "      <td>Disgusting human being</td>\n",
       "    </tr>\n",
       "  </tbody>\n",
       "</table>\n",
       "</div>"
      ],
      "text/plain": [
       "   post_shortcode                     username  \\\n",
       "0     DLJb_caouAE    siddhartha.banerjee.35110   \n",
       "1     DLJb_caouAE             debendra_saha_07   \n",
       "2     DLJb_caouAE               roy_ankit_2000   \n",
       "3     DLJb_caouAE                 rajgupta3171   \n",
       "4     DLJb_caouAE              rajnishmsd._007   \n",
       "5     DLJb_caouAE                     itanumay   \n",
       "6     DLJb_caouAE                     ak_ku.48   \n",
       "7     DLxdqQfsvMk                     tali7165   \n",
       "8     DLxdqQfsvMk        dr.lansyhomeandgarden   \n",
       "9     DLxdqQfsvMk                 lafartstudio   \n",
       "10    DLxdqQfsvMk  strongwomanforthestrongonly   \n",
       "11    DLxdqQfsvMk                    piano6915   \n",
       "12    DLxdqQfsvMk               amritasahu7129   \n",
       "13    DLxdqQfsvMk                    bspinoza1   \n",
       "\n",
       "                                              comment  \\\n",
       "0                                                 🔥🔥😍   \n",
       "1                          Ai TMC sokar hindu birodhi   \n",
       "2   Mamata Banerjee was not allowed in the Jaganna...   \n",
       "3                 Mamta ji is destroyed hindu bangali   \n",
       "4                                                   😢   \n",
       "5                                             @cpimwb   \n",
       "6   G@@ndu gola to abar giye mamtaz kei vote debe ...   \n",
       "7                      An accent for every occasion 🙄   \n",
       "8                                            abominal   \n",
       "9                         KEEP THIS MAN OUT OF OFFICE   \n",
       "10  His Indian mom hates her own heritage. She was...   \n",
       "11                              Communist, antisemite   \n",
       "12      So he is saying his mom a hindu is a bastard?   \n",
       "13                             Disgusting human being   \n",
       "\n",
       "                                           comment_en  \n",
       "0                                                 🔥🔥😍  \n",
       "1                           This Tomke is anti -Hindu  \n",
       "2   Mamata Banerjee was not allowed in the Jaganna...  \n",
       "3                Mamta ji this Destroid Hindu Bengali  \n",
       "4                                                   😢  \n",
       "5                                               @cp a  \n",
       "6   G @@ Nadu Gola will go again and Mumtaz will v...  \n",
       "7                      An accent for every occasion 🙄  \n",
       "8                                            abominal  \n",
       "9                         KEEP THIS MAN OUT OF OFFICE  \n",
       "10  His Indian mom hates her own heritage. She was...  \n",
       "11                              Communist, antisemite  \n",
       "12      So he is saying his mom a hindu is a bastard?  \n",
       "13                             Disgusting human being  "
      ]
     },
     "execution_count": 29,
     "metadata": {},
     "output_type": "execute_result"
    }
   ],
   "source": [
    "# Convert to DataFrame\n",
    "df_comments = pd.DataFrame(comments_data)\n",
    "\n",
    "# Optional: reorder columns\n",
    "df_comments = df_comments[['post_shortcode', 'username', 'comment', 'comment_en']]\n",
    "\n",
    "df_comments"
   ]
  },
  {
   "cell_type": "markdown",
   "id": "f9b95f1b-4b0b-4021-b2e2-5a5dfc357cfa",
   "metadata": {},
   "source": [
    "# Write data to google sheets"
   ]
  },
  {
   "cell_type": "code",
   "execution_count": 12,
   "id": "962e231a-1a8d-4dec-9d68-1d484df61754",
   "metadata": {},
   "outputs": [
    {
     "name": "stdout",
     "output_type": "stream",
     "text": [
      "Collecting gspread\n",
      "  Downloading gspread-6.2.1-py3-none-any.whl.metadata (11 kB)\n",
      "Collecting gspread_dataframe\n",
      "  Downloading gspread_dataframe-4.0.0-py2.py3-none-any.whl.metadata (4.5 kB)\n",
      "Collecting oauth2client\n",
      "  Downloading oauth2client-4.1.3-py2.py3-none-any.whl.metadata (1.2 kB)\n",
      "Collecting google-auth>=1.12.0 (from gspread)\n",
      "  Downloading google_auth-2.40.3-py2.py3-none-any.whl.metadata (6.2 kB)\n",
      "Collecting google-auth-oauthlib>=0.4.1 (from gspread)\n",
      "  Downloading google_auth_oauthlib-1.2.2-py3-none-any.whl.metadata (2.7 kB)\n",
      "Requirement already satisfied: pandas>=0.24.0 in /Users/avanimahawar/ENTER/lib/python3.12/site-packages (from gspread_dataframe) (2.2.3)\n",
      "Requirement already satisfied: six>=1.12.0 in /Users/avanimahawar/ENTER/lib/python3.12/site-packages (from gspread_dataframe) (1.17.0)\n",
      "Collecting httplib2>=0.9.1 (from oauth2client)\n",
      "  Downloading httplib2-0.22.0-py3-none-any.whl.metadata (2.6 kB)\n",
      "Collecting pyasn1>=0.1.7 (from oauth2client)\n",
      "  Downloading pyasn1-0.6.1-py3-none-any.whl.metadata (8.4 kB)\n",
      "Collecting pyasn1-modules>=0.0.5 (from oauth2client)\n",
      "  Downloading pyasn1_modules-0.4.2-py3-none-any.whl.metadata (3.5 kB)\n",
      "Collecting rsa>=3.1.4 (from oauth2client)\n",
      "  Downloading rsa-4.9.1-py3-none-any.whl.metadata (5.6 kB)\n",
      "Collecting cachetools<6.0,>=2.0.0 (from google-auth>=1.12.0->gspread)\n",
      "  Downloading cachetools-5.5.2-py3-none-any.whl.metadata (5.4 kB)\n",
      "Collecting requests-oauthlib>=0.7.0 (from google-auth-oauthlib>=0.4.1->gspread)\n",
      "  Downloading requests_oauthlib-2.0.0-py2.py3-none-any.whl.metadata (11 kB)\n",
      "Requirement already satisfied: pyparsing!=3.0.0,!=3.0.1,!=3.0.2,!=3.0.3,<4,>=2.4.2 in /Users/avanimahawar/ENTER/lib/python3.12/site-packages (from httplib2>=0.9.1->oauth2client) (3.2.1)\n",
      "Requirement already satisfied: numpy>=1.26.0 in /Users/avanimahawar/ENTER/lib/python3.12/site-packages (from pandas>=0.24.0->gspread_dataframe) (1.26.4)\n",
      "Requirement already satisfied: python-dateutil>=2.8.2 in /Users/avanimahawar/ENTER/lib/python3.12/site-packages (from pandas>=0.24.0->gspread_dataframe) (2.9.0.post0)\n",
      "Requirement already satisfied: pytz>=2020.1 in /Users/avanimahawar/ENTER/lib/python3.12/site-packages (from pandas>=0.24.0->gspread_dataframe) (2025.1)\n",
      "Requirement already satisfied: tzdata>=2022.7 in /Users/avanimahawar/ENTER/lib/python3.12/site-packages (from pandas>=0.24.0->gspread_dataframe) (2025.1)\n",
      "Collecting oauthlib>=3.0.0 (from requests-oauthlib>=0.7.0->google-auth-oauthlib>=0.4.1->gspread)\n",
      "  Downloading oauthlib-3.3.1-py3-none-any.whl.metadata (7.9 kB)\n",
      "Requirement already satisfied: requests>=2.0.0 in /Users/avanimahawar/ENTER/lib/python3.12/site-packages (from requests-oauthlib>=0.7.0->google-auth-oauthlib>=0.4.1->gspread) (2.32.3)\n",
      "Requirement already satisfied: charset-normalizer<4,>=2 in /Users/avanimahawar/ENTER/lib/python3.12/site-packages (from requests>=2.0.0->requests-oauthlib>=0.7.0->google-auth-oauthlib>=0.4.1->gspread) (3.3.2)\n",
      "Requirement already satisfied: idna<4,>=2.5 in /Users/avanimahawar/ENTER/lib/python3.12/site-packages (from requests>=2.0.0->requests-oauthlib>=0.7.0->google-auth-oauthlib>=0.4.1->gspread) (3.7)\n",
      "Requirement already satisfied: urllib3<3,>=1.21.1 in /Users/avanimahawar/ENTER/lib/python3.12/site-packages (from requests>=2.0.0->requests-oauthlib>=0.7.0->google-auth-oauthlib>=0.4.1->gspread) (2.3.0)\n",
      "Requirement already satisfied: certifi>=2017.4.17 in /Users/avanimahawar/ENTER/lib/python3.12/site-packages (from requests>=2.0.0->requests-oauthlib>=0.7.0->google-auth-oauthlib>=0.4.1->gspread) (2025.1.31)\n",
      "Downloading gspread-6.2.1-py3-none-any.whl (59 kB)\n",
      "Downloading gspread_dataframe-4.0.0-py2.py3-none-any.whl (9.0 kB)\n",
      "Downloading oauth2client-4.1.3-py2.py3-none-any.whl (98 kB)\n",
      "Downloading google_auth-2.40.3-py2.py3-none-any.whl (216 kB)\n",
      "Downloading google_auth_oauthlib-1.2.2-py3-none-any.whl (19 kB)\n",
      "Downloading httplib2-0.22.0-py3-none-any.whl (96 kB)\n",
      "Downloading pyasn1-0.6.1-py3-none-any.whl (83 kB)\n",
      "Downloading pyasn1_modules-0.4.2-py3-none-any.whl (181 kB)\n",
      "Downloading rsa-4.9.1-py3-none-any.whl (34 kB)\n",
      "Downloading cachetools-5.5.2-py3-none-any.whl (10 kB)\n",
      "Downloading requests_oauthlib-2.0.0-py2.py3-none-any.whl (24 kB)\n",
      "Downloading oauthlib-3.3.1-py3-none-any.whl (160 kB)\n",
      "Installing collected packages: pyasn1, oauthlib, httplib2, cachetools, rsa, requests-oauthlib, pyasn1-modules, oauth2client, google-auth, google-auth-oauthlib, gspread, gspread_dataframe\n",
      "Successfully installed cachetools-5.5.2 google-auth-2.40.3 google-auth-oauthlib-1.2.2 gspread-6.2.1 gspread_dataframe-4.0.0 httplib2-0.22.0 oauth2client-4.1.3 oauthlib-3.3.1 pyasn1-0.6.1 pyasn1-modules-0.4.2 requests-oauthlib-2.0.0 rsa-4.9.1\n"
     ]
    }
   ],
   "source": [
    "!pip install gspread gspread_dataframe oauth2client"
   ]
  },
  {
   "cell_type": "code",
   "execution_count": 30,
   "id": "0329b9f6-569b-4d5b-8f82-2da7dca2ea8a",
   "metadata": {},
   "outputs": [],
   "source": [
    "import gspread\n",
    "from oauth2client.service_account import ServiceAccountCredentials\n",
    "from gspread_dataframe import set_with_dataframe"
   ]
  },
  {
   "cell_type": "code",
   "execution_count": 31,
   "id": "8f422eac-b507-4a1d-af15-fae941e43b33",
   "metadata": {},
   "outputs": [],
   "source": [
    "# Google API scope\n",
    "scope = [\"https://spreadsheets.google.com/feeds\",\"https://www.googleapis.com/auth/drive\"]"
   ]
  },
  {
   "cell_type": "code",
   "execution_count": 32,
   "id": "0442d397-0f6b-48b8-80f2-8935026471a2",
   "metadata": {},
   "outputs": [],
   "source": [
    "# Authenticate\n",
    "creds = ServiceAccountCredentials.from_json_keyfile_name(\"sentiments-469614-b3ccd856e4a4.json\", scope)\n",
    "client = gspread.authorize(creds)"
   ]
  },
  {
   "cell_type": "code",
   "execution_count": 33,
   "id": "de4c4255-f6a4-497e-b5a5-22c86c7b1df4",
   "metadata": {},
   "outputs": [
    {
     "name": "stdout",
     "output_type": "stream",
     "text": [
      "DataFrame uploaded successfully!\n"
     ]
    }
   ],
   "source": [
    "# Open Google Sheet by name (or use .open_by_key(sheet_id))\n",
    "sheet = client.open(\"raw_data\").sheet1\n",
    "\n",
    "# Clear old data\n",
    "sheet.clear()\n",
    "\n",
    "# Write df_comments to Google Sheet\n",
    "set_with_dataframe(sheet, df_comments)\n",
    "\n",
    "print(\"DataFrame uploaded successfully!\")"
   ]
  }
 ],
 "metadata": {
  "kernelspec": {
   "display_name": "Python 3 (ipykernel)",
   "language": "python",
   "name": "python3"
  },
  "language_info": {
   "codemirror_mode": {
    "name": "ipython",
    "version": 3
   },
   "file_extension": ".py",
   "mimetype": "text/x-python",
   "name": "python",
   "nbconvert_exporter": "python",
   "pygments_lexer": "ipython3",
   "version": "3.12.9"
  }
 },
 "nbformat": 4,
 "nbformat_minor": 5
}
